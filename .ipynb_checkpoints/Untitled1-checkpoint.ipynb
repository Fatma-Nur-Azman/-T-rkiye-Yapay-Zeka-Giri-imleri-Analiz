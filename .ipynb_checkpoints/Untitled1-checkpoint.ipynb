{
 "cells": [
  {
   "cell_type": "code",
   "execution_count": 42,
   "id": "614f2327",
   "metadata": {
    "ExecuteTime": {
     "end_time": "2024-11-25T11:28:58.829158Z",
     "start_time": "2024-11-25T11:28:58.733928Z"
    }
   },
   "outputs": [
    {
     "data": {
      "text/html": [
       "<div>\n",
       "<style scoped>\n",
       "    .dataframe tbody tr th:only-of-type {\n",
       "        vertical-align: middle;\n",
       "    }\n",
       "\n",
       "    .dataframe tbody tr th {\n",
       "        vertical-align: top;\n",
       "    }\n",
       "\n",
       "    .dataframe thead th {\n",
       "        text-align: right;\n",
       "    }\n",
       "</style>\n",
       "<table border=\"1\" class=\"dataframe\">\n",
       "  <thead>\n",
       "    <tr style=\"text-align: right;\">\n",
       "      <th></th>\n",
       "      <th>Title</th>\n",
       "      <th>Founder</th>\n",
       "      <th>Site URL</th>\n",
       "    </tr>\n",
       "  </thead>\n",
       "  <tbody>\n",
       "    <tr>\n",
       "      <th>0</th>\n",
       "      <td>2Pro Danışmanlık</td>\n",
       "      <td>Ahmet Cengiz Ucar\\nKategoriler: Öngörü ve Veri...</td>\n",
       "      <td>https://www.2prodanismanlik.com/</td>\n",
       "    </tr>\n",
       "    <tr>\n",
       "      <th>1</th>\n",
       "      <td>A2 Technology</td>\n",
       "      <td>Murat Mutlu\\nKategoriler: Görüntü İşleme</td>\n",
       "      <td>http://a2.tc/</td>\n",
       "    </tr>\n",
       "    <tr>\n",
       "      <th>2</th>\n",
       "      <td>ACT Dijital</td>\n",
       "      <td>Burak Bilge\\nKategoriler: Akıllı Platformlar, ...</td>\n",
       "      <td>https://actdijital.com/</td>\n",
       "    </tr>\n",
       "    <tr>\n",
       "      <th>3</th>\n",
       "      <td>Adapha</td>\n",
       "      <td>Sema Gül Türk\\nKategoriler: Görüntü İşleme</td>\n",
       "      <td>https://adapha.com/</td>\n",
       "    </tr>\n",
       "    <tr>\n",
       "      <th>4</th>\n",
       "      <td>Adastec</td>\n",
       "      <td>Ali Peker\\nKategoriler: Otonom Araçlar</td>\n",
       "      <td>https://adastec.com/</td>\n",
       "    </tr>\n",
       "  </tbody>\n",
       "</table>\n",
       "</div>"
      ],
      "text/plain": [
       "              Title                                            Founder  \\\n",
       "0  2Pro Danışmanlık  Ahmet Cengiz Ucar\\nKategoriler: Öngörü ve Veri...   \n",
       "1     A2 Technology           Murat Mutlu\\nKategoriler: Görüntü İşleme   \n",
       "2       ACT Dijital  Burak Bilge\\nKategoriler: Akıllı Platformlar, ...   \n",
       "3            Adapha         Sema Gül Türk\\nKategoriler: Görüntü İşleme   \n",
       "4           Adastec             Ali Peker\\nKategoriler: Otonom Araçlar   \n",
       "\n",
       "                           Site URL  \n",
       "0  https://www.2prodanismanlik.com/  \n",
       "1                     http://a2.tc/  \n",
       "2           https://actdijital.com/  \n",
       "3               https://adapha.com/  \n",
       "4              https://adastec.com/  "
      ]
     },
     "execution_count": 42,
     "metadata": {},
     "output_type": "execute_result"
    }
   ],
   "source": [
    "import pandas as pd\n",
    "\n",
    "# Excel dosyasını yükleyelim\n",
    "file_path = 'girisimci_data.xlsx'  # Dosya yolunu güncelleyin\n",
    "data = pd.read_excel(file_path)\n",
    "\n",
    "# Veriyi kontrol edelim\n",
    "data.head()\n"
   ]
  },
  {
   "cell_type": "code",
   "execution_count": 43,
   "id": "1e229171",
   "metadata": {
    "ExecuteTime": {
     "end_time": "2024-11-25T11:29:00.002751Z",
     "start_time": "2024-11-25T11:28:59.977569Z"
    }
   },
   "outputs": [
    {
     "data": {
      "text/html": [
       "<div>\n",
       "<style scoped>\n",
       "    .dataframe tbody tr th:only-of-type {\n",
       "        vertical-align: middle;\n",
       "    }\n",
       "\n",
       "    .dataframe tbody tr th {\n",
       "        vertical-align: top;\n",
       "    }\n",
       "\n",
       "    .dataframe thead th {\n",
       "        text-align: right;\n",
       "    }\n",
       "</style>\n",
       "<table border=\"1\" class=\"dataframe\">\n",
       "  <thead>\n",
       "    <tr style=\"text-align: right;\">\n",
       "      <th></th>\n",
       "      <th>Title</th>\n",
       "      <th>Founder</th>\n",
       "      <th>Site URL</th>\n",
       "      <th>Categories</th>\n",
       "    </tr>\n",
       "  </thead>\n",
       "  <tbody>\n",
       "    <tr>\n",
       "      <th>0</th>\n",
       "      <td>2Pro Danışmanlık</td>\n",
       "      <td>Ahmet Cengiz Ucar</td>\n",
       "      <td>https://www.2prodanismanlik.com/</td>\n",
       "      <td>[Öngörü ve Veri Analitiği]</td>\n",
       "    </tr>\n",
       "    <tr>\n",
       "      <th>1</th>\n",
       "      <td>A2 Technology</td>\n",
       "      <td>Murat Mutlu</td>\n",
       "      <td>http://a2.tc/</td>\n",
       "      <td>[Görüntü İşleme]</td>\n",
       "    </tr>\n",
       "    <tr>\n",
       "      <th>2</th>\n",
       "      <td>ACT Dijital</td>\n",
       "      <td>Burak Bilge</td>\n",
       "      <td>https://actdijital.com/</td>\n",
       "      <td>[Akıllı Platformlar, Chatbot &amp; Diyalogsal Yapa...</td>\n",
       "    </tr>\n",
       "    <tr>\n",
       "      <th>3</th>\n",
       "      <td>Adapha</td>\n",
       "      <td>Sema Gül Türk</td>\n",
       "      <td>https://adapha.com/</td>\n",
       "      <td>[Görüntü İşleme]</td>\n",
       "    </tr>\n",
       "    <tr>\n",
       "      <th>4</th>\n",
       "      <td>Adastec</td>\n",
       "      <td>Ali Peker</td>\n",
       "      <td>https://adastec.com/</td>\n",
       "      <td>[Otonom Araçlar]</td>\n",
       "    </tr>\n",
       "  </tbody>\n",
       "</table>\n",
       "</div>"
      ],
      "text/plain": [
       "              Title            Founder                          Site URL  \\\n",
       "0  2Pro Danışmanlık  Ahmet Cengiz Ucar  https://www.2prodanismanlik.com/   \n",
       "1     A2 Technology        Murat Mutlu                     http://a2.tc/   \n",
       "2       ACT Dijital        Burak Bilge           https://actdijital.com/   \n",
       "3            Adapha      Sema Gül Türk               https://adapha.com/   \n",
       "4           Adastec          Ali Peker              https://adastec.com/   \n",
       "\n",
       "                                          Categories  \n",
       "0                         [Öngörü ve Veri Analitiği]  \n",
       "1                                   [Görüntü İşleme]  \n",
       "2  [Akıllı Platformlar, Chatbot & Diyalogsal Yapa...  \n",
       "3                                   [Görüntü İşleme]  \n",
       "4                                   [Otonom Araçlar]  "
      ]
     },
     "execution_count": 43,
     "metadata": {},
     "output_type": "execute_result"
    }
   ],
   "source": [
    "data[\"Categories\"] = data[\"Founder\"].str.extract(r\"Kategoriler: (.+)\")\n",
    "data['Categories'] = data['Categories'].apply(lambda x: x.split(', ') if isinstance(x, str) else [])\n",
    "data[\"Founder\"] = data[\"Founder\"].str.replace(r\"\\nKategoriler: .+\", \"\", regex=True)\n",
    "data.head()"
   ]
  },
  {
   "cell_type": "code",
   "execution_count": 44,
   "id": "fa9e9448",
   "metadata": {
    "ExecuteTime": {
     "end_time": "2024-11-25T11:29:01.875344Z",
     "start_time": "2024-11-25T11:29:01.864440Z"
    }
   },
   "outputs": [],
   "source": [
    "# \"Doğal Dil İşlemee\" hatasını \"Doğal Dil İşleme\" olarak düzelt\n",
    "def fix_category_typo(categories):\n",
    "    if isinstance(categories, list):  # Eğer kategori bir liste ise\n",
    "        return [cat.replace(\"Doğal Dil İşlemee\", \"Doğal Dil İşleme\") for cat in categories]\n",
    "    elif isinstance(categories, str):  # Eğer kategori bir string ise\n",
    "        return categories.replace(\"Doğal Dil İşlemee\", \"Doğal Dil İşleme\")\n",
    "    return categories\n",
    "\n",
    "# \"Categories\" sütunundaki hataları düzelt\n",
    "data['Categories'] = data['Categories'].apply(fix_category_typo)"
   ]
  },
  {
   "cell_type": "code",
   "execution_count": 45,
   "id": "ca206471",
   "metadata": {
    "ExecuteTime": {
     "end_time": "2024-11-25T11:29:02.674309Z",
     "start_time": "2024-11-25T11:29:02.664506Z"
    }
   },
   "outputs": [],
   "source": [
    "# \"Doğal Dil İşlemee\" hatasını \"Doğal Dil İşleme\" olarak düzelt\n",
    "def fix_category_typo2(categories):\n",
    "    if isinstance(categories, list):  # Eğer kategori bir liste ise\n",
    "        return [cat.replace(\"Öngörü & Veri Analitiği\", \"Öngörü ve Veri Analitiği\") for cat in categories]\n",
    "    elif isinstance(categories, str):  # Eğer kategori bir string ise\n",
    "        return categories.replace(\"Öngörü & Veri Analitiği\", \"Öngörü ve Veri Analitiği\")\n",
    "    return categories\n",
    "\n",
    "# \"Categories\" sütunundaki hataları düzelt\n",
    "data['Categories'] = data['Categories'].apply(fix_category_typo2)"
   ]
  },
  {
   "cell_type": "code",
   "execution_count": 46,
   "id": "4dc6c836",
   "metadata": {
    "ExecuteTime": {
     "end_time": "2024-11-25T11:29:03.573657Z",
     "start_time": "2024-11-25T11:29:03.564850Z"
    }
   },
   "outputs": [],
   "source": [
    "# \"Doğal Dil İşlemee\" hatasını \"Doğal Dil İşleme\" olarak düzelt\n",
    "def fix_category_typo3(categories):\n",
    "    if isinstance(categories, list):  # Eğer kategori bir liste ise\n",
    "        return [cat.replace(\"RPA\", \"RPA(Robotik Süreç Otomasyonu)\") for cat in categories]\n",
    "    elif isinstance(categories, str):  # Eğer kategori bir string ise\n",
    "        return categories.replace(\"RPA\", \"RPA(Robotik Süreç Otomasyonu)\")\n",
    "    return categories\n",
    "\n",
    "# \"Categories\" sütunundaki hataları düzelt\n",
    "data['Categories'] = data['Categories'].apply(fix_category_typo3)"
   ]
  },
  {
   "cell_type": "code",
   "execution_count": 48,
   "id": "5b6d33b6",
   "metadata": {
    "ExecuteTime": {
     "end_time": "2024-11-25T11:30:34.788820Z",
     "start_time": "2024-11-25T11:30:34.778436Z"
    }
   },
   "outputs": [],
   "source": [
    "# \"Doğal Dil İşlemee\" hatasını \"Doğal Dil İşleme\" olarak düzelt\n",
    "def fix_category_typo4(categories):\n",
    "    if isinstance(categories, list):  # Eğer kategori bir liste ise\n",
    "        return [cat.replace(\"RPA(Robotik Süreç Otomasyonu) (Robotik Süreç Otomasyonu)\", \"RPA(Robotik Süreç Otomasyonu)\") for cat in categories]\n",
    "    elif isinstance(categories, str):  # Eğer kategori bir string ise\n",
    "        return categories.replace(\"RPA(Robotik Süreç Otomasyonu) (Robotik Süreç Otomasyonu)\", \"RPA(Robotik Süreç Otomasyonu)\")\n",
    "    return categories\n",
    "\n",
    "# \"Categories\" sütunundaki hataları düzelt\n",
    "data['Categories'] = data['Categories'].apply(fix_category_typo4)"
   ]
  },
  {
   "cell_type": "code",
   "execution_count": 63,
   "id": "38a816f8",
   "metadata": {
    "ExecuteTime": {
     "end_time": "2024-11-25T11:42:03.982977Z",
     "start_time": "2024-11-25T11:42:03.943873Z"
    }
   },
   "outputs": [
    {
     "data": {
      "text/html": [
       "<div>\n",
       "<style scoped>\n",
       "    .dataframe tbody tr th:only-of-type {\n",
       "        vertical-align: middle;\n",
       "    }\n",
       "\n",
       "    .dataframe tbody tr th {\n",
       "        vertical-align: top;\n",
       "    }\n",
       "\n",
       "    .dataframe thead th {\n",
       "        text-align: right;\n",
       "    }\n",
       "</style>\n",
       "<table border=\"1\" class=\"dataframe\">\n",
       "  <thead>\n",
       "    <tr style=\"text-align: right;\">\n",
       "      <th></th>\n",
       "      <th>Categories</th>\n",
       "    </tr>\n",
       "  </thead>\n",
       "  <tbody>\n",
       "    <tr>\n",
       "      <th>11</th>\n",
       "      <td>[Nesnelerin İnterneti]</td>\n",
       "    </tr>\n",
       "    <tr>\n",
       "      <th>15</th>\n",
       "      <td>[Nesnelerin İnterneti]</td>\n",
       "    </tr>\n",
       "    <tr>\n",
       "      <th>33</th>\n",
       "      <td>[Nesnelerin İnterneti]</td>\n",
       "    </tr>\n",
       "    <tr>\n",
       "      <th>42</th>\n",
       "      <td>[Akıllı Platformlar, Nesnelerin İnterneti]</td>\n",
       "    </tr>\n",
       "    <tr>\n",
       "      <th>51</th>\n",
       "      <td>[Makine Öğrenmesi, Optimizasyon, Görüntü İşleme, Nesnelerin İnterneti]</td>\n",
       "    </tr>\n",
       "    <tr>\n",
       "      <th>56</th>\n",
       "      <td>[Doğal Dil İşleme, Chatbot ve Diyalogsal Yapay Zeka, Görüntü İşleme, Nesnelerin İnterneti]</td>\n",
       "    </tr>\n",
       "    <tr>\n",
       "      <th>81</th>\n",
       "      <td>[Nesnelerin interneti-Nesnelerin İnterneti, Akıllı Platformlar]</td>\n",
       "    </tr>\n",
       "    <tr>\n",
       "      <th>113</th>\n",
       "      <td>[Makine Öğrenmesi, Optimizasyon, Akıllı Platformlar, Görüntü İşleme, Nesnelerin İnterneti]</td>\n",
       "    </tr>\n",
       "    <tr>\n",
       "      <th>136</th>\n",
       "      <td>[Makine Öğrenmesi, Görüntü İşleme, Nesnelerin İnterneti]</td>\n",
       "    </tr>\n",
       "    <tr>\n",
       "      <th>186</th>\n",
       "      <td>[Makine Öğrenmesi, Öngörü ve Veri Analitiği, Görüntü İşleme, Nesnelerin İnterneti]</td>\n",
       "    </tr>\n",
       "    <tr>\n",
       "      <th>205</th>\n",
       "      <td>[Makine Öğrenmesi, Akıllı Platformlar, Otonom Araçlar, Chatbot ve Diyalogsal Yapay Zeka, Arama Motoru ve Arama Asistanı, Görüntü İşleme, Nesnelerin İnterneti]</td>\n",
       "    </tr>\n",
       "    <tr>\n",
       "      <th>208</th>\n",
       "      <td>[Makine Öğrenmesi, Öngörü ve Veri Analitiği, Nesnelerin interneti-Nesnelerin İnterneti]</td>\n",
       "    </tr>\n",
       "    <tr>\n",
       "      <th>219</th>\n",
       "      <td>[Nesnelerin interneti (Nesnelerin İnterneti)]</td>\n",
       "    </tr>\n",
       "    <tr>\n",
       "      <th>222</th>\n",
       "      <td>[Nesnelerin interneti Nesnelerin İnterneti]</td>\n",
       "    </tr>\n",
       "    <tr>\n",
       "      <th>246</th>\n",
       "      <td>[Nesnelerin interneti–Nesnelerin İnterneti]</td>\n",
       "    </tr>\n",
       "    <tr>\n",
       "      <th>253</th>\n",
       "      <td>[Optimizasyon, Otonom Araçlar, Görüntü İşleme, Nesnelerin İnterneti]</td>\n",
       "    </tr>\n",
       "    <tr>\n",
       "      <th>256</th>\n",
       "      <td>[Görüntü İşleme, Nesnelerin interneti-Nesnelerin İnterneti]</td>\n",
       "    </tr>\n",
       "    <tr>\n",
       "      <th>271</th>\n",
       "      <td>[Makine Öğrenmesi, Doğal Dil İşleme, RPA(Robotik Süreç Otomasyonu), Chatbot ve Diyalogsal Yapay Zeka, Görüntü İşleme, Nesnelerin İnterneti]</td>\n",
       "    </tr>\n",
       "  </tbody>\n",
       "</table>\n",
       "</div>"
      ],
      "text/plain": [
       "                                                                                                                                                         Categories\n",
       "11                                                                                                                                           [Nesnelerin İnterneti]\n",
       "15                                                                                                                                           [Nesnelerin İnterneti]\n",
       "33                                                                                                                                           [Nesnelerin İnterneti]\n",
       "42                                                                                                                       [Akıllı Platformlar, Nesnelerin İnterneti]\n",
       "51                                                                                           [Makine Öğrenmesi, Optimizasyon, Görüntü İşleme, Nesnelerin İnterneti]\n",
       "56                                                                       [Doğal Dil İşleme, Chatbot ve Diyalogsal Yapay Zeka, Görüntü İşleme, Nesnelerin İnterneti]\n",
       "81                                                                                                  [Nesnelerin interneti-Nesnelerin İnterneti, Akıllı Platformlar]\n",
       "113                                                                      [Makine Öğrenmesi, Optimizasyon, Akıllı Platformlar, Görüntü İşleme, Nesnelerin İnterneti]\n",
       "136                                                                                                        [Makine Öğrenmesi, Görüntü İşleme, Nesnelerin İnterneti]\n",
       "186                                                                              [Makine Öğrenmesi, Öngörü ve Veri Analitiği, Görüntü İşleme, Nesnelerin İnterneti]\n",
       "205  [Makine Öğrenmesi, Akıllı Platformlar, Otonom Araçlar, Chatbot ve Diyalogsal Yapay Zeka, Arama Motoru ve Arama Asistanı, Görüntü İşleme, Nesnelerin İnterneti]\n",
       "208                                                                         [Makine Öğrenmesi, Öngörü ve Veri Analitiği, Nesnelerin interneti-Nesnelerin İnterneti]\n",
       "219                                                                                                                   [Nesnelerin interneti (Nesnelerin İnterneti)]\n",
       "222                                                                                                                     [Nesnelerin interneti Nesnelerin İnterneti]\n",
       "246                                                                                                                     [Nesnelerin interneti–Nesnelerin İnterneti]\n",
       "253                                                                                            [Optimizasyon, Otonom Araçlar, Görüntü İşleme, Nesnelerin İnterneti]\n",
       "256                                                                                                     [Görüntü İşleme, Nesnelerin interneti-Nesnelerin İnterneti]\n",
       "271                     [Makine Öğrenmesi, Doğal Dil İşleme, RPA(Robotik Süreç Otomasyonu), Chatbot ve Diyalogsal Yapay Zeka, Görüntü İşleme, Nesnelerin İnterneti]"
      ]
     },
     "execution_count": 63,
     "metadata": {},
     "output_type": "execute_result"
    }
   ],
   "source": [
    "# Pandas'ın hücre uzunluğu kısıtlamasını kaldır\n",
    "pd.options.display.max_colwidth = None\n",
    "# IoT içeren satırları bul (eğer Categories sütununda liste varsa)\n",
    "filtered_data = data[data['Categories'].apply(\n",
    "    lambda x: any(\"Nesnelerin İnterneti\" in cat for cat in x) if isinstance(x, list) else False\n",
    ")]\n",
    "\n",
    "# Sonuçları kontrol et\n",
    "filtered_data[['Categories']]"
   ]
  },
  {
   "cell_type": "code",
   "execution_count": 67,
   "id": "97ff62a5",
   "metadata": {
    "ExecuteTime": {
     "end_time": "2024-11-25T11:46:09.346302Z",
     "start_time": "2024-11-25T11:46:09.314078Z"
    }
   },
   "outputs": [],
   "source": [
    "import re\n",
    "\n",
    "# \"Nesnelerin İnterneti\" ile ilgili hatalı kategorileri düzeltmek için fonksiyon\n",
    "def fix_duplicate_internet_of_things(categories):\n",
    "    # Eğer liste ise\n",
    "    if isinstance(categories, list):\n",
    "        cleaned_categories = []\n",
    "        for cat in categories:\n",
    "            # \"Nesnelerin İnterneti\" ile ilgili hatalı tekrarları düzelt\n",
    "            cleaned_cat = re.sub(r\"(Nesnelerin interneti.*Nesnelerin İnterneti)\", \"Nesnelerin İnterneti\", cat)\n",
    "            cleaned_categories.append(cleaned_cat)\n",
    "        return cleaned_categories\n",
    "    # Eğer string ise (tek satır)\n",
    "    elif isinstance(categories, str):\n",
    "        return re.sub(r\"(Nesnelerin interneti.*Nesnelerin İnterneti)\", \"Nesnelerin İnterneti\", categories)\n",
    "    return categories\n",
    "\n",
    "# \"Categories\" sütunundaki hataları düzelt\n",
    "data['Categories'] = data['Categories'].apply(fix_duplicate_internet_of_things)"
   ]
  },
  {
   "cell_type": "code",
   "execution_count": 75,
   "id": "ea32b821",
   "metadata": {
    "ExecuteTime": {
     "end_time": "2024-11-25T11:51:39.151546Z",
     "start_time": "2024-11-25T11:51:39.136971Z"
    }
   },
   "outputs": [],
   "source": [
    "import re\n",
    "\n",
    "# \"Nesnelerin İnterneti\" ile ilgili hatalı kategorileri düzeltmek için fonksiyon\n",
    "def fix_duplicate_internet_of_things2(categories):\n",
    "    # Eğer liste ise\n",
    "    if isinstance(categories, list):\n",
    "        cleaned_categories = []\n",
    "        for cat in categories:\n",
    "            # \"Nesnelerin İnterneti\" ile ilgili hatalı tekrarları düzelt\n",
    "            cleaned_cat = re.sub(r\"(Nesnelerin interneti.*Nesnelerin Interneti)\", \"Nesnelerin İnterneti\", cat)\n",
    "            cleaned_categories.append(cleaned_cat)\n",
    "        return cleaned_categories\n",
    "    # Eğer string ise (tek satır)\n",
    "    elif isinstance(categories, str):\n",
    "        return re.sub(r\"(Nesnelerin interneti.*Nesnelerin Interneti)\", \"Nesnelerin İnterneti\", categories)\n",
    "    return categories\n",
    "\n",
    "# \"Categories\" sütunundaki hataları düzelt\n",
    "data['Categories'] = data['Categories'].apply(fix_duplicate_internet_of_things2)"
   ]
  },
  {
   "cell_type": "code",
   "execution_count": 69,
   "id": "c9bb45da",
   "metadata": {
    "ExecuteTime": {
     "end_time": "2024-11-25T11:46:34.332518Z",
     "start_time": "2024-11-25T11:46:34.307050Z"
    }
   },
   "outputs": [
    {
     "data": {
      "text/html": [
       "<div>\n",
       "<style scoped>\n",
       "    .dataframe tbody tr th:only-of-type {\n",
       "        vertical-align: middle;\n",
       "    }\n",
       "\n",
       "    .dataframe tbody tr th {\n",
       "        vertical-align: top;\n",
       "    }\n",
       "\n",
       "    .dataframe thead th {\n",
       "        text-align: right;\n",
       "    }\n",
       "</style>\n",
       "<table border=\"1\" class=\"dataframe\">\n",
       "  <thead>\n",
       "    <tr style=\"text-align: right;\">\n",
       "      <th></th>\n",
       "      <th>Categories</th>\n",
       "    </tr>\n",
       "  </thead>\n",
       "  <tbody>\n",
       "    <tr>\n",
       "      <th>53</th>\n",
       "      <td>[Genel, Üretim, Perakende, Bankacılık, Sigortacılık, Eticaret, Online Pazar Yerleri, Otomotiv, Hukuk, Tarım, Akıllı Şehir, Enerji, Sürdürülebilirlik, Sağlık, Telekom, Savunma, Eğitim, Lojistik, Güvenlik, Siber Güvenlik, içinde arama kutusu olan tüm sektörlerden ticari veya kurumsal web siteleri]</td>\n",
       "    </tr>\n",
       "    <tr>\n",
       "      <th>60</th>\n",
       "      <td>[E-Ticaret, Online Pazar Yerleri]</td>\n",
       "    </tr>\n",
       "    <tr>\n",
       "      <th>64</th>\n",
       "      <td>[Genel, E-Ticaret, Sürdürülebilirlik, Eğitim]</td>\n",
       "    </tr>\n",
       "    <tr>\n",
       "      <th>104</th>\n",
       "      <td>[Perakende, Eticaret, Online Pazar Yerleri, İnşaat, Emlak, İç Mimari Tasarım]</td>\n",
       "    </tr>\n",
       "    <tr>\n",
       "      <th>159</th>\n",
       "      <td>[Perakende, Bankacılık, Otomotiv, Enerji, Telekom]</td>\n",
       "    </tr>\n",
       "    <tr>\n",
       "      <th>182</th>\n",
       "      <td>[Genel, Perakende, Bankacılık, Sigortacılık, E-Ticaret, Online Pazar Yerleri, Otomotiv, Akıllı Şehir, Sürdürülebilirlik, Sağlık, Telekom, Eğitim, Lojistik, Güvenlik]</td>\n",
       "    </tr>\n",
       "  </tbody>\n",
       "</table>\n",
       "</div>"
      ],
      "text/plain": [
       "                                                                                                                                                                                                                                                                                                   Categories\n",
       "53   [Genel, Üretim, Perakende, Bankacılık, Sigortacılık, Eticaret, Online Pazar Yerleri, Otomotiv, Hukuk, Tarım, Akıllı Şehir, Enerji, Sürdürülebilirlik, Sağlık, Telekom, Savunma, Eğitim, Lojistik, Güvenlik, Siber Güvenlik, içinde arama kutusu olan tüm sektörlerden ticari veya kurumsal web siteleri]\n",
       "60                                                                                                                                                                                                                                                                          [E-Ticaret, Online Pazar Yerleri]\n",
       "64                                                                                                                                                                                                                                                              [Genel, E-Ticaret, Sürdürülebilirlik, Eğitim]\n",
       "104                                                                                                                                                                                                                             [Perakende, Eticaret, Online Pazar Yerleri, İnşaat, Emlak, İç Mimari Tasarım]\n",
       "159                                                                                                                                                                                                                                                        [Perakende, Bankacılık, Otomotiv, Enerji, Telekom]\n",
       "182                                                                                                                                     [Genel, Perakende, Bankacılık, Sigortacılık, E-Ticaret, Online Pazar Yerleri, Otomotiv, Akıllı Şehir, Sürdürülebilirlik, Sağlık, Telekom, Eğitim, Lojistik, Güvenlik]"
      ]
     },
     "execution_count": 69,
     "metadata": {},
     "output_type": "execute_result"
    }
   ],
   "source": [
    "# Pandas'ın hücre uzunluğu kısıtlamasını kaldır\n",
    "pd.options.display.max_colwidth = None\n",
    "# IoT içeren satırları bul (eğer Categories sütununda liste varsa)\n",
    "filtered_data = data[data['Categories'].apply(\n",
    "    lambda x: any(\"T\" in cat for cat in x) if isinstance(x, list) else False\n",
    ")]\n",
    "\n",
    "# Sonuçları kontrol et\n",
    "filtered_data[['Categories']]"
   ]
  },
  {
   "cell_type": "code",
   "execution_count": 55,
   "id": "cb53e6af",
   "metadata": {
    "ExecuteTime": {
     "end_time": "2024-11-25T11:36:15.174605Z",
     "start_time": "2024-11-25T11:36:15.153037Z"
    }
   },
   "outputs": [],
   "source": [
    "# \"Doğal Dil İşlemee\" hatasını \"Doğal Dil İşleme\" olarak düzelt\n",
    "def fix_category_typo5(categories):\n",
    "    if isinstance(categories, list):  # Eğer kategori bir liste ise\n",
    "        return [cat.replace(\"IoT\", \"Nesnelerin interneti\") for cat in categories]\n",
    "    elif isinstance(categories, str):  # Eğer kategori bir string ise\n",
    "        return categories.replace(\"loT\", \"Nesnelerin interneti\")\n",
    "    return categories\n",
    "\n",
    "# \"Categories\" sütunundaki hataları düzelt\n",
    "data['Categories'] = data['Categories'].apply(fix_category_typo5)"
   ]
  },
  {
   "cell_type": "code",
   "execution_count": 54,
   "id": "90078e1f",
   "metadata": {
    "ExecuteTime": {
     "end_time": "2024-11-25T11:34:20.226687Z",
     "start_time": "2024-11-25T11:34:20.216316Z"
    }
   },
   "outputs": [],
   "source": [
    "# \"Doğal Dil İşlemee\" hatasını \"Doğal Dil İşleme\" olarak düzelt\n",
    "def fix_category_typo6(categories):\n",
    "    if isinstance(categories, list):  # Eğer kategori bir liste ise\n",
    "        return [cat.replace(\"IoT-Nesnelerin interneti\", \"Nesnelerin interneti\") for cat in categories]\n",
    "    elif isinstance(categories, str):  # Eğer kategori bir string ise\n",
    "        return categories.replace(\"loT-Nesnelerin interneti\", \"Nesnelerin interneti\")\n",
    "    return categories\n",
    "\n",
    "# \"Categories\" sütunundaki hataları düzelt\n",
    "data['Categories'] = data['Categories'].apply(fix_category_typo6)"
   ]
  },
  {
   "cell_type": "code",
   "execution_count": 77,
   "id": "9dde61d2",
   "metadata": {
    "ExecuteTime": {
     "end_time": "2024-11-25T11:53:55.738766Z",
     "start_time": "2024-11-25T11:53:55.727995Z"
    }
   },
   "outputs": [],
   "source": [
    "# \"Doğal Dil İşlemee\" hatasını \"Doğal Dil İşleme\" olarak düzelt\n",
    "def fix_category_typo6(categories):\n",
    "    if isinstance(categories, list):  # Eğer kategori bir liste ise\n",
    "        return [cat.replace(\"Nesnelerin İnterneti)\", \"Nesnelerin interneti\") for cat in categories]\n",
    "    elif isinstance(categories, str):  # Eğer kategori bir string ise\n",
    "        return categories.replace(\"Nesnelerin İnterneti)\", \"Nesnelerin interneti\")\n",
    "    return categories\n",
    "\n",
    "# \"Categories\" sütunundaki hataları düzelt\n",
    "data['Categories'] = data['Categories'].apply(fix_category_typo6)"
   ]
  },
  {
   "cell_type": "code",
   "execution_count": 71,
   "id": "c52265d3",
   "metadata": {
    "ExecuteTime": {
     "end_time": "2024-11-25T11:48:27.572493Z",
     "start_time": "2024-11-25T11:48:27.561280Z"
    }
   },
   "outputs": [],
   "source": [
    "# \"Doğal Dil İşlemee\" hatasını \"Doğal Dil İşleme\" olarak düzelt\n",
    "def fix_category_typo7(categories):\n",
    "    if isinstance(categories, list):  # Eğer kategori bir liste ise\n",
    "        return [cat.replace(\"Chatbot & Diyalogsal yapay zeka\", \"Chatbot ve Diyalogsal Yapay Zeka\") for cat in categories]\n",
    "    elif isinstance(categories, str):  # Eğer kategori bir string ise\n",
    "        return categories.replace(\"Chatbot & Diyalogsal yapay zeka\", \"Chatbot ve Diyalogsal Yapay Zeka\")\n",
    "    return categories\n",
    "\n",
    "# \"Categories\" sütunundaki hataları düzelt\n",
    "data['Categories'] = data['Categories'].apply(fix_category_typo7)"
   ]
  },
  {
   "cell_type": "code",
   "execution_count": 72,
   "id": "64b6c970",
   "metadata": {
    "ExecuteTime": {
     "end_time": "2024-11-25T11:49:28.518976Z",
     "start_time": "2024-11-25T11:49:28.509836Z"
    }
   },
   "outputs": [],
   "source": [
    "# \"Doğal Dil İşlemee\" hatasını \"Doğal Dil İşleme\" olarak düzelt\n",
    "def fix_category_typo8(categories):\n",
    "    if isinstance(categories, list):  # Eğer kategori bir liste ise\n",
    "        return [cat.replace(\"Chatbot ve Diyalogsal yapay zeka\", \"Chatbot ve Diyalogsal Yapay Zeka\") for cat in categories]\n",
    "    elif isinstance(categories, str):  # Eğer kategori bir string ise\n",
    "        return categories.replace(\"Chatbot ve Diyalogsal yapay zeka\", \"Chatbot ve Diyalogsal Yapay Zeka\")\n",
    "    return categories\n",
    "\n",
    "# \"Categories\" sütunundaki hataları düzelt\n",
    "data['Categories'] = data['Categories'].apply(fix_category_typo8)"
   ]
  },
  {
   "cell_type": "code",
   "execution_count": 74,
   "id": "75d8873f",
   "metadata": {
    "ExecuteTime": {
     "end_time": "2024-11-25T11:50:50.224569Z",
     "start_time": "2024-11-25T11:50:50.215170Z"
    }
   },
   "outputs": [],
   "source": [
    "# \"Doğal Dil İşlemee\" hatasını \"Doğal Dil İşleme\" olarak düzelt\n",
    "def fix_category_typo8(categories):\n",
    "    if isinstance(categories, list):  # Eğer kategori bir liste ise\n",
    "        return [cat.replace(\"Chatbot & Diyalogsal Yapay Zeka\", \"Chatbot ve Diyalogsal Yapay Zeka\") for cat in categories]\n",
    "    elif isinstance(categories, str):  # Eğer kategori bir string ise\n",
    "        return categories.replace(\"Chatbot & Diyalogsal Yapay Zeka\", \"Chatbot ve Diyalogsal Yapay Zeka\")\n",
    "    return categories\n",
    "\n",
    "# \"Categories\" sütunundaki hataları düzelt\n",
    "data['Categories'] = data['Categories'].apply(fix_category_typo8)"
   ]
  },
  {
   "cell_type": "code",
   "execution_count": 78,
   "id": "97372a6d",
   "metadata": {
    "ExecuteTime": {
     "end_time": "2024-11-25T11:54:21.561618Z",
     "start_time": "2024-11-25T11:54:21.549301Z"
    }
   },
   "outputs": [],
   "source": [
    "# Kategorileri küçük Türkçe harflere çeviren fonksiyon\n",
    "def lowercase_categories(categories):\n",
    "    if isinstance(categories, list):\n",
    "        # Eğer kategori bir liste ise\n",
    "        return [cat.lower() for cat in categories]\n",
    "    elif isinstance(categories, str):\n",
    "        # Eğer kategori bir string ise\n",
    "        return categories.lower()\n",
    "    return categories\n",
    "\n",
    "# \"Categories\" sütunundaki tüm değerleri küçük Türkçe harflere çevir\n",
    "data['Categories'] = data['Categories'].apply(lowercase_categories)"
   ]
  },
  {
   "cell_type": "code",
   "execution_count": 80,
   "id": "98013e79",
   "metadata": {
    "ExecuteTime": {
     "end_time": "2024-11-25T11:56:04.280348Z",
     "start_time": "2024-11-25T11:56:04.270096Z"
    }
   },
   "outputs": [],
   "source": [
    "# \"Doğal Dil İşlemee\" hatasını \"Doğal Dil İşleme\" olarak düzelt\n",
    "def fix_category_typo8(categories):\n",
    "    if isinstance(categories, list):  # Eğer kategori bir liste ise\n",
    "        return [cat.replace(\"öngörü ve veri analiği\", \"öngörü ve veri analitiği\") for cat in categories]\n",
    "    elif isinstance(categories, str):  # Eğer kategori bir string ise\n",
    "        return categories.replace(\"öngörü ve veri analiği\", \"öngörü ve veri analitiği\")\n",
    "    return categories\n",
    "\n",
    "# \"Categories\" sütunundaki hataları düzelt\n",
    "data['Categories'] = data['Categories'].apply(fix_category_typo8)"
   ]
  },
  {
   "cell_type": "code",
   "execution_count": 82,
   "id": "8ee4701e",
   "metadata": {
    "ExecuteTime": {
     "end_time": "2024-11-25T11:57:07.609774Z",
     "start_time": "2024-11-25T11:57:07.596790Z"
    }
   },
   "outputs": [],
   "source": [
    "# \"Doğal Dil İşlemee\" hatasını \"Doğal Dil İşleme\" olarak düzelt\n",
    "def fix_category_typo8(categories):\n",
    "    if isinstance(categories, list):  # Eğer kategori bir liste ise\n",
    "        return [cat.replace(\"makine görme algoritmaları\", \"makine öğrenmesi\") for cat in categories]\n",
    "    elif isinstance(categories, str):  # Eğer kategori bir string ise\n",
    "        return categories.replace(\"makine görme algoritmaları\", \"makine öğrenmesi\")\n",
    "    return categories\n",
    "\n",
    "# \"Categories\" sütunundaki hataları düzelt\n",
    "data['Categories'] = data['Categories'].apply(fix_category_typo8)"
   ]
  },
  {
   "cell_type": "code",
   "execution_count": 83,
   "id": "09e8b6dc",
   "metadata": {
    "ExecuteTime": {
     "end_time": "2024-11-25T11:57:31.612011Z",
     "start_time": "2024-11-25T11:57:31.602089Z"
    }
   },
   "outputs": [],
   "source": [
    "# \"Doğal Dil İşlemee\" hatasını \"Doğal Dil İşleme\" olarak düzelt\n",
    "def fix_category_typo8(categories):\n",
    "    if isinstance(categories, list):  # Eğer kategori bir liste ise\n",
    "        return [cat.replace(\"makine ögrenmesi\", \"makine öğrenmesi\") for cat in categories]\n",
    "    elif isinstance(categories, str):  # Eğer kategori bir string ise\n",
    "        return categories.replace(\"makine ögrenmesi\", \"makine öğrenmesi\")\n",
    "    return categories\n",
    "\n",
    "# \"Categories\" sütunundaki hataları düzelt\n",
    "data['Categories'] = data['Categories'].apply(fix_category_typo8)"
   ]
  },
  {
   "cell_type": "code",
   "execution_count": 85,
   "id": "914b4a9f",
   "metadata": {
    "ExecuteTime": {
     "end_time": "2024-11-25T11:58:43.883628Z",
     "start_time": "2024-11-25T11:58:43.873195Z"
    }
   },
   "outputs": [],
   "source": [
    "# \"Doğal Dil İşlemee\" hatasını \"Doğal Dil İşleme\" olarak düzelt\n",
    "def fix_category_typo8(categories):\n",
    "    if isinstance(categories, list):  # Eğer kategori bir liste ise\n",
    "        return [cat.replace(\"online pazar yerleri\", \"e-ticaret\") for cat in categories]\n",
    "    elif isinstance(categories, str):  # Eğer kategori bir string ise\n",
    "        return categories.replace(\"online pazar yerleri\", \"e-ticaret\")\n",
    "    return categories\n",
    "\n",
    "# \"Categories\" sütunundaki hataları düzelt\n",
    "data['Categories'] = data['Categories'].apply(fix_category_typo8)"
   ]
  },
  {
   "cell_type": "code",
   "execution_count": 86,
   "id": "7d964c6d",
   "metadata": {
    "ExecuteTime": {
     "end_time": "2024-11-25T11:58:59.755109Z",
     "start_time": "2024-11-25T11:58:59.744941Z"
    }
   },
   "outputs": [],
   "source": [
    "# \"Doğal Dil İşlemee\" hatasını \"Doğal Dil İşleme\" olarak düzelt\n",
    "def fix_category_typo8(categories):\n",
    "    if isinstance(categories, list):  # Eğer kategori bir liste ise\n",
    "        return [cat.replace(\"eticaret\", \"e-ticaret\") for cat in categories]\n",
    "    elif isinstance(categories, str):  # Eğer kategori bir string ise\n",
    "        return categories.replace(\"eticaret\", \"e-ticaret\")\n",
    "    return categories\n",
    "\n",
    "# \"Categories\" sütunundaki hataları düzelt\n",
    "data['Categories'] = data['Categories'].apply(fix_category_typo8)"
   ]
  },
  {
   "cell_type": "code",
   "execution_count": 88,
   "id": "a446169f",
   "metadata": {
    "ExecuteTime": {
     "end_time": "2024-11-25T12:00:50.721282Z",
     "start_time": "2024-11-25T12:00:50.667663Z"
    }
   },
   "outputs": [
    {
     "data": {
      "text/html": [
       "<div>\n",
       "<style scoped>\n",
       "    .dataframe tbody tr th:only-of-type {\n",
       "        vertical-align: middle;\n",
       "    }\n",
       "\n",
       "    .dataframe tbody tr th {\n",
       "        vertical-align: top;\n",
       "    }\n",
       "\n",
       "    .dataframe thead th {\n",
       "        text-align: right;\n",
       "    }\n",
       "</style>\n",
       "<table border=\"1\" class=\"dataframe\">\n",
       "  <thead>\n",
       "    <tr style=\"text-align: right;\">\n",
       "      <th></th>\n",
       "      <th>Categories</th>\n",
       "    </tr>\n",
       "  </thead>\n",
       "  <tbody>\n",
       "    <tr>\n",
       "      <th>1</th>\n",
       "      <td>[görüntü i̇şleme]</td>\n",
       "    </tr>\n",
       "    <tr>\n",
       "      <th>3</th>\n",
       "      <td>[görüntü i̇şleme]</td>\n",
       "    </tr>\n",
       "    <tr>\n",
       "      <th>7</th>\n",
       "      <td>[görüntü i̇şleme]</td>\n",
       "    </tr>\n",
       "    <tr>\n",
       "      <th>12</th>\n",
       "      <td>[görüntü i̇şleme]</td>\n",
       "    </tr>\n",
       "    <tr>\n",
       "      <th>13</th>\n",
       "      <td>[makine öğrenmesi, görüntü i̇şleme]</td>\n",
       "    </tr>\n",
       "    <tr>\n",
       "      <th>...</th>\n",
       "      <td>...</td>\n",
       "    </tr>\n",
       "    <tr>\n",
       "      <th>276</th>\n",
       "      <td>[görüntü i̇şleme]</td>\n",
       "    </tr>\n",
       "    <tr>\n",
       "      <th>281</th>\n",
       "      <td>[görüntü i̇şleme]</td>\n",
       "    </tr>\n",
       "    <tr>\n",
       "      <th>282</th>\n",
       "      <td>[doğal dil i̇şleme, görüntü i̇şleme, chatbot ve diyalogsal yapay zeka]</td>\n",
       "    </tr>\n",
       "    <tr>\n",
       "      <th>284</th>\n",
       "      <td>[görüntü i̇şleme]</td>\n",
       "    </tr>\n",
       "    <tr>\n",
       "      <th>285</th>\n",
       "      <td>[görüntü i̇şleme]</td>\n",
       "    </tr>\n",
       "  </tbody>\n",
       "</table>\n",
       "<p>94 rows × 1 columns</p>\n",
       "</div>"
      ],
      "text/plain": [
       "                                                                 Categories\n",
       "1                                                         [görüntü i̇şleme]\n",
       "3                                                         [görüntü i̇şleme]\n",
       "7                                                         [görüntü i̇şleme]\n",
       "12                                                        [görüntü i̇şleme]\n",
       "13                                      [makine öğrenmesi, görüntü i̇şleme]\n",
       "..                                                                      ...\n",
       "276                                                       [görüntü i̇şleme]\n",
       "281                                                       [görüntü i̇şleme]\n",
       "282  [doğal dil i̇şleme, görüntü i̇şleme, chatbot ve diyalogsal yapay zeka]\n",
       "284                                                       [görüntü i̇şleme]\n",
       "285                                                       [görüntü i̇şleme]\n",
       "\n",
       "[94 rows x 1 columns]"
      ]
     },
     "execution_count": 88,
     "metadata": {},
     "output_type": "execute_result"
    }
   ],
   "source": [
    "# Pandas'ın hücre uzunluğu kısıtlamasını kaldır\n",
    "pd.options.display.max_colwidth = None\n",
    "# IoT içeren satırları bul (eğer Categories sütununda liste varsa)\n",
    "filtered_data = data[data['Categories'].apply(\n",
    "    lambda x: any(\"görüntü\" in cat for cat in x) if isinstance(x, list) else False\n",
    ")]\n",
    "\n",
    "# Sonuçları kontrol et\n",
    "filtered_data[['Categories']]"
   ]
  },
  {
   "cell_type": "code",
   "execution_count": 87,
   "id": "c0aefe92",
   "metadata": {
    "ExecuteTime": {
     "end_time": "2024-11-25T11:59:01.605651Z",
     "start_time": "2024-11-25T11:59:01.586913Z"
    }
   },
   "outputs": [
    {
     "name": "stdout",
     "output_type": "stream",
     "text": [
      "Veri 'girisimci_data.csv' dosyasına başarıyla kaydedildi!\n"
     ]
    }
   ],
   "source": [
    "# DataFrame'i CSV olarak kaydetmek\n",
    "file_path = \"girisimci_data.csv\"  # Dosya adını ve yolunu belirleyin\n",
    "data.to_csv(file_path, index=False, encoding='utf-8-sig')  # index=False ile satır numaralarını dahil etmez\n",
    "print(f\"Veri '{file_path}' dosyasına başarıyla kaydedildi!\")"
   ]
  }
 ],
 "metadata": {
  "hide_input": false,
  "kernelspec": {
   "display_name": "Python 3 (ipykernel)",
   "language": "python",
   "name": "python3"
  },
  "language_info": {
   "codemirror_mode": {
    "name": "ipython",
    "version": 3
   },
   "file_extension": ".py",
   "mimetype": "text/x-python",
   "name": "python",
   "nbconvert_exporter": "python",
   "pygments_lexer": "ipython3",
   "version": "3.11.7"
  },
  "toc": {
   "base_numbering": 1,
   "nav_menu": {},
   "number_sections": true,
   "sideBar": true,
   "skip_h1_title": false,
   "title_cell": "Table of Contents",
   "title_sidebar": "Contents",
   "toc_cell": false,
   "toc_position": {},
   "toc_section_display": true,
   "toc_window_display": true
  },
  "varInspector": {
   "cols": {
    "lenName": 16,
    "lenType": 16,
    "lenVar": 40
   },
   "kernels_config": {
    "python": {
     "delete_cmd_postfix": "",
     "delete_cmd_prefix": "del ",
     "library": "var_list.py",
     "varRefreshCmd": "print(var_dic_list())"
    },
    "r": {
     "delete_cmd_postfix": ") ",
     "delete_cmd_prefix": "rm(",
     "library": "var_list.r",
     "varRefreshCmd": "cat(var_dic_list()) "
    }
   },
   "types_to_exclude": [
    "module",
    "function",
    "builtin_function_or_method",
    "instance",
    "_Feature"
   ],
   "window_display": false
  }
 },
 "nbformat": 4,
 "nbformat_minor": 5
}
